{
  "nbformat": 4,
  "nbformat_minor": 0,
  "metadata": {
    "colab": {
      "provenance": [],
      "authorship_tag": "ABX9TyMvqU1TB/TjUWDPgvAlQhVv",
      "include_colab_link": true
    },
    "kernelspec": {
      "name": "python3",
      "display_name": "Python 3"
    },
    "language_info": {
      "name": "python"
    }
  },
  "cells": [
    {
      "cell_type": "markdown",
      "metadata": {
        "id": "view-in-github",
        "colab_type": "text"
      },
      "source": [
        "<a href=\"https://colab.research.google.com/github/MiidasTFYB/First-Repo/blob/main/PythonPlotting.ipynb\" target=\"_parent\"><img src=\"https://colab.research.google.com/assets/colab-badge.svg\" alt=\"Open In Colab\"/></a>"
      ]
    },
    {
      "cell_type": "code",
      "source": [
        "# Importing plotting library\n",
        "import matplotlib.pyplot as plt"
      ],
      "metadata": {
        "id": "mTVSLSWkoihJ"
      },
      "execution_count": 7,
      "outputs": []
    },
    {
      "cell_type": "code",
      "execution_count": null,
      "metadata": {
        "colab": {
          "base_uri": "https://localhost:8080/"
        },
        "id": "vFqiZ7VvdqUh",
        "outputId": "4958ff2d-07c6-4b19-a882-b71a3441cb72"
      },
      "outputs": [
        {
          "output_type": "stream",
          "name": "stdout",
          "text": [
            "No get away from me\n"
          ]
        }
      ],
      "source": [
        "print(\"\")"
      ]
    },
    {
      "cell_type": "code",
      "source": [
        "x=4\n",
        "print(x)"
      ],
      "metadata": {
        "colab": {
          "base_uri": "https://localhost:8080/"
        },
        "id": "PoIUl4BtfipA",
        "outputId": "e610a14a-757f-41a0-b38b-7db51d3bfa0d"
      },
      "execution_count": null,
      "outputs": [
        {
          "output_type": "stream",
          "name": "stdout",
          "text": [
            "4\n"
          ]
        }
      ]
    },
    {
      "cell_type": "code",
      "source": [
        "# Make Fake Data\n",
        "# The \"#\" symbol means a comment\n",
        "# [] is used for lists- so x and y are lists\n",
        "# Note that y is x squared\n",
        "x = [1,2,3,4]\n",
        "y = [1,4,9,16]\n",
        "\n",
        "plt.plot(x,y,'Red')\n"
      ],
      "metadata": {
        "colab": {
          "base_uri": "https://localhost:8080/",
          "height": 447
        },
        "id": "gc-AaOkVn_nX",
        "outputId": "26250540-4224-40fa-f329-aa792d034ec7"
      },
      "execution_count": 10,
      "outputs": [
        {
          "output_type": "execute_result",
          "data": {
            "text/plain": [
              "[<matplotlib.lines.Line2D at 0x7f7be960d840>]"
            ]
          },
          "metadata": {},
          "execution_count": 10
        },
        {
          "output_type": "display_data",
          "data": {
            "text/plain": [
              "<Figure size 640x480 with 1 Axes>"
            ],
            "image/png": "[encoded data removed]"
          },
          "metadata": {}
        }
      ]
    },
    {
      "cell_type": "code",
      "source": [
        "# Use Numpy\n",
        "import numpy as np\n",
        "\n",
        "x = np.array([1,2,3,4])\n",
        "y = np.array([1,4,9,16])\n",
        "y = x**2\n",
        "print(x)\n",
        "print(y)"
      ],
      "metadata": {
        "colab": {
          "base_uri": "https://localhost:8080/"
        },
        "id": "sAqPJv06r9VU",
        "outputId": "a5843a09-ce68-45e8-906d-8a3074260347"
      },
      "execution_count": 15,
      "outputs": [
        {
          "output_type": "stream",
          "name": "stdout",
          "text": [
            "[1 2 3 4]\n",
            "[ 1  4  9 16]\n"
          ]
        }
      ]
    }
  ]
}